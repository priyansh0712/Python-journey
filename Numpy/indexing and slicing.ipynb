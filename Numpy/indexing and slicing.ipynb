{
 "cells": [
  {
   "cell_type": "code",
   "execution_count": 3,
   "id": "722b1331-92d6-4e78-ba2f-c3f2afddd8ed",
   "metadata": {},
   "outputs": [],
   "source": [
    "import numpy as np\n",
    "arr= np.array([[1,2,3],[4,5,6],[7,8,9],[10,11,12]])"
   ]
  },
  {
   "cell_type": "code",
   "execution_count": 4,
   "id": "e8709f92-d2e2-4430-a640-2b3e2e4aec8e",
   "metadata": {},
   "outputs": [
    {
     "data": {
      "text/plain": [
       "array([[ 1,  2,  3],\n",
       "       [ 4,  5,  6],\n",
       "       [ 7,  8,  9],\n",
       "       [10, 11, 12]])"
      ]
     },
     "execution_count": 4,
     "metadata": {},
     "output_type": "execute_result"
    }
   ],
   "source": [
    "arr"
   ]
  },
  {
   "cell_type": "code",
   "execution_count": 5,
   "id": "897ddf58-d640-46dc-97ec-e89cfa0b3acc",
   "metadata": {},
   "outputs": [],
   "source": [
    "flat = arr.flatten()"
   ]
  },
  {
   "cell_type": "code",
   "execution_count": 6,
   "id": "e5df7aa6-980f-455f-ad79-06b28eb42824",
   "metadata": {},
   "outputs": [
    {
     "data": {
      "text/plain": [
       "array([ 1,  2,  3,  4,  5,  6,  7,  8,  9, 10, 11, 12])"
      ]
     },
     "execution_count": 6,
     "metadata": {},
     "output_type": "execute_result"
    }
   ],
   "source": [
    "flat\n"
   ]
  },
  {
   "cell_type": "code",
   "execution_count": 7,
   "id": "75c066b8-485b-4f1e-a0a0-b3db8f399b2f",
   "metadata": {},
   "outputs": [
    {
     "data": {
      "text/plain": [
       "1"
      ]
     },
     "execution_count": 7,
     "metadata": {},
     "output_type": "execute_result"
    }
   ],
   "source": [
    "flat[0]"
   ]
  },
  {
   "cell_type": "code",
   "execution_count": 8,
   "id": "ef5559a9-57e1-4e31-9cc0-96da970eebac",
   "metadata": {},
   "outputs": [
    {
     "data": {
      "text/plain": [
       "array([1, 2, 3, 4])"
      ]
     },
     "execution_count": 8,
     "metadata": {},
     "output_type": "execute_result"
    }
   ],
   "source": [
    "flat[0:4]"
   ]
  },
  {
   "cell_type": "code",
   "execution_count": 9,
   "id": "6e243b97-468c-46b6-b45f-79b502440312",
   "metadata": {},
   "outputs": [
    {
     "data": {
      "text/plain": [
       "array([ 1,  3,  5,  7,  9, 11])"
      ]
     },
     "execution_count": 9,
     "metadata": {},
     "output_type": "execute_result"
    }
   ],
   "source": [
    "flat[::2]"
   ]
  },
  {
   "cell_type": "code",
   "execution_count": 13,
   "id": "1900f288-24dd-4916-9c61-f1033feff24d",
   "metadata": {},
   "outputs": [
    {
     "name": "stdout",
     "output_type": "stream",
     "text": [
      "[99999     2     3     4     5     6     7     8     9    10    11    12]\n"
     ]
    }
   ],
   "source": [
    "sliced=flat[:3]\n",
    "sliced[0]=99999\n",
    "print(flat)"
   ]
  },
  {
   "cell_type": "code",
   "execution_count": 15,
   "id": "7130e75c-1e53-459e-820e-2cd9d682c8c2",
   "metadata": {},
   "outputs": [
    {
     "name": "stdout",
     "output_type": "stream",
     "text": [
      "[99999     2     3     4     5     6     7     8     9    10    11    12]\n",
      "[99999  6666     3]\n"
     ]
    }
   ],
   "source": [
    "copy=flat[:3].copy()    #This is not slice it's copy\n",
    "copy[1]=6666\n",
    "print(flat)"
   ]
  },
  {
   "cell_type": "code",
   "execution_count": 16,
   "id": "4275ad5f-9e33-4d62-a667-3e1c60e0503a",
   "metadata": {},
   "outputs": [
    {
     "name": "stdout",
     "output_type": "stream",
     "text": [
      "[10 30 50]\n"
     ]
    }
   ],
   "source": [
    "arr = np.array([10, 20, 30, 40, 50])\n",
    "idx = [0, 2, 4]  # Indices to select\n",
    "print(arr[idx])  # [10 30 50]"
   ]
  },
  {
   "cell_type": "code",
   "execution_count": 17,
   "id": "972f2870-84d7-495d-b019-e68e3ed61d39",
   "metadata": {},
   "outputs": [
    {
     "name": "stdout",
     "output_type": "stream",
     "text": [
      "[30 40 50]\n"
     ]
    }
   ],
   "source": [
    "arr = np.array([10, 20, 30, 40, 50])\n",
    "mask = arr > 25  # Condition: values greater than 25\n",
    "print(arr[mask])  # [30 40 50]"
   ]
  }
 ],
 "metadata": {
  "kernelspec": {
   "display_name": "Python 3 (ipykernel)",
   "language": "python",
   "name": "python3"
  },
  "language_info": {
   "codemirror_mode": {
    "name": "ipython",
    "version": 3
   },
   "file_extension": ".py",
   "mimetype": "text/x-python",
   "name": "python",
   "nbconvert_exporter": "python",
   "pygments_lexer": "ipython3",
   "version": "3.12.7"
  }
 },
 "nbformat": 4,
 "nbformat_minor": 5
}

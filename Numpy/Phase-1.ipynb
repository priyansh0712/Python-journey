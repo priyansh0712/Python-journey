{
 "cells": [
  {
   "cell_type": "markdown",
   "id": "a2904a4d",
   "metadata": {},
   "source": [
    "## Numpy\n",
    "learn about Numpy "
   ]
  },
  {
   "cell_type": "code",
   "execution_count": 2,
   "id": "022fab60",
   "metadata": {},
   "outputs": [],
   "source": [
    "import numpy as np"
   ]
  },
  {
   "cell_type": "markdown",
   "id": "53d98bec",
   "metadata": {},
   "source": [
    "#### creating arrays from list\n"
   ]
  },
  {
   "cell_type": "code",
   "execution_count": 3,
   "id": "2c0c4600",
   "metadata": {},
   "outputs": [
    {
     "name": "stdout",
     "output_type": "stream",
     "text": [
      "1D-Array :  [1 2 3]\n",
      "2D-Array :\n",
      "  [[1 2 3]\n",
      " [4 5 6]]\n"
     ]
    }
   ],
   "source": [
    "arr_1d = np.array([1,2,3])\n",
    "arr_2d = np.array([[1,2,3],[4,5,6]])\n",
    "\n",
    "print(\"1D-Array : \",arr_1d)\n",
    "print(\"2D-Array :\\n \",arr_2d)"
   ]
  },
  {
   "cell_type": "markdown",
   "id": "40c588a2",
   "metadata": {},
   "source": [
    "### Python List VS Numpy Arrays"
   ]
  },
  {
   "cell_type": "code",
   "execution_count": 4,
   "id": "fef2d5cf",
   "metadata": {},
   "outputs": [
    {
     "name": "stdout",
     "output_type": "stream",
     "text": [
      "python list multiplication :  [1, 2, 3, 1, 2, 3]\n",
      "python array multiplication :  [2 4 6]\n"
     ]
    }
   ],
   "source": [
    "list = [1,2,3]\n",
    "print(\"python list multiplication : \",list*2)\n",
    "\n",
    "arr = np.array(list)\n",
    "print(\"python array multiplication : \",arr*2)  #Element Wise Multiplication\n",
    "\n"
   ]
  },
  {
   "cell_type": "code",
   "execution_count": 9,
   "id": "787d241b",
   "metadata": {},
   "outputs": [
    {
     "name": "stdout",
     "output_type": "stream",
     "text": [
      "Time taken to list :  4.362883806228638\n",
      "Time taken to Array :  4.7685627937316895\n"
     ]
    }
   ],
   "source": [
    "import time as time\n",
    "start = time.time()\n",
    "list1=[i*2 for i in range(100000000)]\n",
    "print(\"Time taken to list : \",time.time()-start)\n",
    "\n",
    "arr1 = np.arange(100000000) * 2 \n",
    "print(\"Time taken to Array : \",time.time()-start)\n"
   ]
  },
  {
   "cell_type": "markdown",
   "id": "07430386",
   "metadata": {},
   "source": [
    "### Creating Arrays from Scratch"
   ]
  },
  {
   "cell_type": "code",
   "execution_count": 19,
   "id": "91b14246",
   "metadata": {},
   "outputs": [
    {
     "name": "stdout",
     "output_type": "stream",
     "text": [
      "[[0. 0. 0.]\n",
      " [0. 0. 0.]] \n",
      "\n",
      "[[1. 1. 1.]\n",
      " [1. 1. 1.]] \n",
      "\n",
      "[[7 7 7]\n",
      " [7 7 7]] \n",
      "\n",
      "[[0.09312466 0.79427183 0.88351005]\n",
      " [0.36633343 0.33919989 0.58681525]] \n",
      "\n",
      "[0 1 2 3 4 5 6 7 8 9] \n",
      "\n",
      "[1 3 5 7 9] \n",
      "\n",
      "[1.   1.25 1.5  1.75 2.  ] \n",
      "\n"
     ]
    }
   ],
   "source": [
    "zeros = np.zeros((2,3))\n",
    "print(zeros,\"\\n\")\n",
    "\n",
    "ones = np.ones((2,3))\n",
    "print(ones,\"\\n\")\n",
    "\n",
    "full = np.full((2,3),7) #Create Arry with Fill value 7.\n",
    "print(full,\"\\n\")\n",
    "\n",
    "random = np.random.random((2,3)) #Creating Array with random value\n",
    "print(random,\"\\n\")\n",
    "\n",
    "squence =  np.arange(0,10)\n",
    "print(squence,\"\\n\")\n",
    "\n",
    "\n",
    "arange = np.arange(1,10,2) #(start,end,step) it will skip one by one value.\n",
    "print(arange,\"\\n\")\n",
    "\n",
    "line_space = np.linspace(1,2,5) #(start,stop,supportIndex) Divide 1 to 2 into 5 parts evenly.\n",
    "print(line_space,\"\\n\")"
   ]
  },
  {
   "cell_type": "code",
   "execution_count": null,
   "id": "1bcc9a9d",
   "metadata": {},
   "outputs": [],
   "source": []
  }
 ],
 "metadata": {
  "kernelspec": {
   "display_name": ".venv (3.13.4)",
   "language": "python",
   "name": "python3"
  },
  "language_info": {
   "codemirror_mode": {
    "name": "ipython",
    "version": 3
   },
   "file_extension": ".py",
   "mimetype": "text/x-python",
   "name": "python",
   "nbconvert_exporter": "python",
   "pygments_lexer": "ipython3",
   "version": "3.13.4"
  }
 },
 "nbformat": 4,
 "nbformat_minor": 5
}

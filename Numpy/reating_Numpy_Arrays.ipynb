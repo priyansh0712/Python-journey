{
 "cells": [
  {
   "cell_type": "code",
   "execution_count": 1,
   "id": "5d700ecd-2501-421e-8a09-5c608a7f2e27",
   "metadata": {},
   "outputs": [],
   "source": [
    "import numpy as np"
   ]
  },
  {
   "cell_type": "code",
   "execution_count": 8,
   "id": "334ff052-8e4a-4ee8-8a24-4afdc82916bf",
   "metadata": {},
   "outputs": [],
   "source": [
    "arr= np.array([1,2,3])\n",
    "arr2=np.array([[1,2,3],[5,6,7]])"
   ]
  },
  {
   "cell_type": "code",
   "execution_count": 12,
   "id": "0c060e67-5c80-49a5-b557-4eb9c0d469c4",
   "metadata": {},
   "outputs": [
    {
     "name": "stdout",
     "output_type": "stream",
     "text": [
      "1D :  [1 2 3]\n",
      "2D: [[1 2 3]\n",
      " [5 6 7]]\n"
     ]
    }
   ],
   "source": [
    "print(\"1D : \",arr)\n",
    "print(\"2D:\",arr2)"
   ]
  },
  {
   "cell_type": "code",
   "execution_count": 17,
   "id": "76503710-7ee5-4800-be94-273d819f66e0",
   "metadata": {},
   "outputs": [
    {
     "data": {
      "text/plain": [
       "array([[0., 0., 0., 0.],\n",
       "       [0., 0., 0., 0.],\n",
       "       [0., 0., 0., 0.]])"
      ]
     },
     "execution_count": 17,
     "metadata": {},
     "output_type": "execute_result"
    }
   ],
   "source": [
    "np.zeros((3,4))"
   ]
  },
  {
   "cell_type": "code",
   "execution_count": 18,
   "id": "f5e4e611-3a7f-4a24-9e03-e66eb44dd67b",
   "metadata": {},
   "outputs": [
    {
     "data": {
      "text/plain": [
       "array([[1., 1., 1.],\n",
       "       [1., 1., 1.]])"
      ]
     },
     "execution_count": 18,
     "metadata": {},
     "output_type": "execute_result"
    }
   ],
   "source": [
    "np.ones((2,3))"
   ]
  },
  {
   "cell_type": "code",
   "execution_count": 19,
   "id": "0e7e85ee-8f10-41c1-a1ba-39fbcbab7c0f",
   "metadata": {},
   "outputs": [
    {
     "data": {
      "text/plain": [
       "array([[8, 8, 8],\n",
       "       [8, 8, 8],\n",
       "       [8, 8, 8]])"
      ]
     },
     "execution_count": 19,
     "metadata": {},
     "output_type": "execute_result"
    }
   ],
   "source": [
    "np.full((3,3),8)"
   ]
  },
  {
   "cell_type": "code",
   "execution_count": 20,
   "id": "80a5c5db-411d-456d-baf2-1bdc90eac6a8",
   "metadata": {},
   "outputs": [
    {
     "data": {
      "text/plain": [
       "array([[1., 0., 0.],\n",
       "       [0., 1., 0.],\n",
       "       [0., 0., 1.]])"
      ]
     },
     "execution_count": 20,
     "metadata": {},
     "output_type": "execute_result"
    }
   ],
   "source": [
    "np.eye(3,3)"
   ]
  },
  {
   "cell_type": "code",
   "execution_count": 21,
   "id": "54e23633-1ebc-443a-8459-5a4bd4581373",
   "metadata": {},
   "outputs": [
    {
     "data": {
      "text/plain": [
       "array([1, 3, 5, 7, 9])"
      ]
     },
     "execution_count": 21,
     "metadata": {},
     "output_type": "execute_result"
    }
   ],
   "source": [
    "np.arange(1,10,2)"
   ]
  },
  {
   "cell_type": "code",
   "execution_count": 23,
   "id": "ad1a52d2-d4b9-4db0-9f2b-2ab931e02456",
   "metadata": {},
   "outputs": [
    {
     "data": {
      "text/plain": [
       "array([0.  , 0.25, 0.5 , 0.75, 1.  ])"
      ]
     },
     "execution_count": 23,
     "metadata": {},
     "output_type": "execute_result"
    }
   ],
   "source": [
    "np.linspace(0,1,5)"
   ]
  },
  {
   "cell_type": "code",
   "execution_count": 26,
   "id": "05857573-d84e-4d76-b62f-67804e3d84ce",
   "metadata": {},
   "outputs": [
    {
     "data": {
      "text/plain": [
       "array([[ 1,  2,  3],\n",
       "       [ 4,  5,  6],\n",
       "       [ 7,  8,  9],\n",
       "       [10, 11, 12]])"
      ]
     },
     "execution_count": 26,
     "metadata": {},
     "output_type": "execute_result"
    }
   ],
   "source": [
    "myarr= np.array([[1,2,3],[4,5,6],[7,8,9],[10,11,12]])\n",
    "myarr"
   ]
  },
  {
   "cell_type": "code",
   "execution_count": 31,
   "id": "73a14dee-53ab-488f-8910-5998665d5d59",
   "metadata": {},
   "outputs": [
    {
     "name": "stdout",
     "output_type": "stream",
     "text": [
      "Shape is     :  (4, 3)\n",
      "Size is      :  12\n",
      "Dimensions is:  2\n",
      "Type is      :  int32\n"
     ]
    }
   ],
   "source": [
    "print(\"Shape is     : \",myarr.shape)\n",
    "print(\"Size is      : \",myarr.size)\n",
    "print(\"Dimensions is: \",myarr.ndim)\n",
    "print(\"Type is      : \",myarr.dtype)"
   ]
  },
  {
   "cell_type": "code",
   "execution_count": 33,
   "id": "fba56e0a-f3b9-49b3-b549-578ab2d763de",
   "metadata": {},
   "outputs": [
    {
     "data": {
      "text/plain": [
       "array([[ 1.,  2.,  3.],\n",
       "       [ 4.,  5.,  6.],\n",
       "       [ 7.,  8.,  9.],\n",
       "       [10., 11., 12.]], dtype=float32)"
      ]
     },
     "execution_count": 33,
     "metadata": {},
     "output_type": "execute_result"
    }
   ],
   "source": [
    "myarr= np.array([[1,2,3],[4,5,6],[7,8,9],[10,11,12]],dtype='float32')\n",
    "myarr"
   ]
  },
  {
   "cell_type": "code",
   "execution_count": 36,
   "id": "2eade8a8-5e82-4a5d-a5c7-07c780e7966d",
   "metadata": {
    "scrolled": true
   },
   "outputs": [],
   "source": [
    "n = myarr.astype('float64')"
   ]
  },
  {
   "cell_type": "code",
   "execution_count": 37,
   "id": "0f6476e9-ac42-475b-8442-b2438f3d38f5",
   "metadata": {},
   "outputs": [
    {
     "data": {
      "text/plain": [
       "dtype('float64')"
      ]
     },
     "execution_count": 37,
     "metadata": {},
     "output_type": "execute_result"
    }
   ],
   "source": [
    "n.dtype"
   ]
  },
  {
   "cell_type": "code",
   "execution_count": 39,
   "id": "c2b889a7-a21c-4c66-b285-38ca5aa48ded",
   "metadata": {},
   "outputs": [
    {
     "data": {
      "text/plain": [
       "dtype('float32')"
      ]
     },
     "execution_count": 39,
     "metadata": {},
     "output_type": "execute_result"
    }
   ],
   "source": [
    "myarr.dtype"
   ]
  },
  {
   "cell_type": "code",
   "execution_count": 40,
   "id": "250b0ae9-08aa-4b49-97fe-7daff6d1a884",
   "metadata": {},
   "outputs": [],
   "source": [
    "reshaped=myarr.reshape((3,4))"
   ]
  },
  {
   "cell_type": "code",
   "execution_count": 41,
   "id": "cd6fce14-c934-49f6-a019-077318d44090",
   "metadata": {},
   "outputs": [
    {
     "data": {
      "text/plain": [
       "array([[ 1.,  2.,  3.,  4.],\n",
       "       [ 5.,  6.,  7.,  8.],\n",
       "       [ 9., 10., 11., 12.]], dtype=float32)"
      ]
     },
     "execution_count": 41,
     "metadata": {},
     "output_type": "execute_result"
    }
   ],
   "source": [
    "reshaped\n"
   ]
  },
  {
   "cell_type": "code",
   "execution_count": 43,
   "id": "9fc48fd4-2dae-4987-801e-002f923625b1",
   "metadata": {},
   "outputs": [
    {
     "data": {
      "text/plain": [
       "array([ 1.,  2.,  3.,  4.,  5.,  6.,  7.,  8.,  9., 10., 11., 12.],\n",
       "      dtype=float32)"
      ]
     },
     "execution_count": 43,
     "metadata": {},
     "output_type": "execute_result"
    }
   ],
   "source": [
    "myarr.flatten()"
   ]
  },
  {
   "cell_type": "code",
   "execution_count": null,
   "id": "3f8d98e6-7e03-4be0-9f25-ff61fb831aa9",
   "metadata": {},
   "outputs": [],
   "source": []
  }
 ],
 "metadata": {
  "kernelspec": {
   "display_name": "Python 3 (ipykernel)",
   "language": "python",
   "name": "python3"
  },
  "language_info": {
   "codemirror_mode": {
    "name": "ipython",
    "version": 3
   },
   "file_extension": ".py",
   "mimetype": "text/x-python",
   "name": "python",
   "nbconvert_exporter": "python",
   "pygments_lexer": "ipython3",
   "version": "3.12.7"
  }
 },
 "nbformat": 4,
 "nbformat_minor": 5
}
